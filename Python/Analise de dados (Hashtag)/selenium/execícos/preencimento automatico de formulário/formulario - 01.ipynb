{
 "cells": [
  {
   "cell_type": "code",
   "execution_count": 18,
   "id": "8a029d5b",
   "metadata": {},
   "outputs": [],
   "source": [
    "# 00- Verificando a versão mais recente do mozilla e intalando\n",
    "# 01 - Importando o selenium e a webdriver\n",
    "from selenium import webdriver\n",
    "from webdriver_manager.firefox import GeckoDriverManager\n",
    "from selenium.webdriver.firefox.service import Service\n",
    "\n",
    "servico = Service(GeckoDriverManager().install())\n",
    "\n",
    "navegador = webdriver.Firefox(service=servico)\n",
    "\n",
    "# 02 - Entrando no navegador\n",
    "# 03 - Acessando o site \n",
    "navegador.get(\"https://pages.hashtagtreinamentos.com/inscricao-minicurso-python-automacao-org?origemurl=hashtag_yt_org_minipython_videoselenium\")\n",
    "\n",
    "# 04 - Preencendo o formulario com as informações necessarias: nome, email, telefone\n",
    "navegador.find_element('xpath', '/html/body/div[2]/div[1]/section/div[2]/div/div[2]/form/div[1]/div/div[1]/div/input').send_keys(\"Carlens Oslin Henry\")\n",
    "navegador.find_element('xpath', '/html/body/div[2]/div[1]/section/div[2]/div/div[2]/form/div[1]/div/div[2]/div/input').send_keys(\"carlensoslin@gmail.com\")\n",
    "navegador.find_element('xpath', '/html/body/div[2]/div[1]/section/div[2]/div/div[2]/form/div[1]/div/div[3]/div/input').send_keys(\"41 9857-6674\")\n",
    "\n",
    "# 05 - Apertando o botão de acessar\n",
    "navegador.find_element('xpath', '/html/body/div[2]/div[1]/section/div[2]/div/div[2]/form/button').click()"
   ]
  },
  {
   "cell_type": "code",
   "execution_count": null,
   "id": "2b48c28c",
   "metadata": {},
   "outputs": [],
   "source": []
  },
  {
   "cell_type": "code",
   "execution_count": null,
   "id": "ceb3b151",
   "metadata": {},
   "outputs": [],
   "source": []
  },
  {
   "cell_type": "code",
   "execution_count": null,
   "id": "84891bb9",
   "metadata": {},
   "outputs": [],
   "source": []
  }
 ],
 "metadata": {
  "kernelspec": {
   "display_name": "Python 3 (ipykernel)",
   "language": "python",
   "name": "python3"
  },
  "language_info": {
   "codemirror_mode": {
    "name": "ipython",
    "version": 3
   },
   "file_extension": ".py",
   "mimetype": "text/x-python",
   "name": "python",
   "nbconvert_exporter": "python",
   "pygments_lexer": "ipython3",
   "version": "3.10.12"
  }
 },
 "nbformat": 4,
 "nbformat_minor": 5
}
