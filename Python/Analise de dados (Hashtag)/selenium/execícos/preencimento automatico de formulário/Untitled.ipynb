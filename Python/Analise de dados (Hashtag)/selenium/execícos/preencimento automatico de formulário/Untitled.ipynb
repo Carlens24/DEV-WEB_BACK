{
 "cells": [
  {
   "cell_type": "code",
   "execution_count": 1,
   "id": "076a3b45",
   "metadata": {},
   "outputs": [
    {
     "ename": "SyntaxError",
     "evalue": "invalid syntax (2246090706.py, line 8)",
     "output_type": "error",
     "traceback": [
      "\u001b[1;36m  File \u001b[1;32m\"C:\\Users\\carlens.oslin\\AppData\\Local\\Temp\\ipykernel_764\\2246090706.py\"\u001b[1;36m, line \u001b[1;32m8\u001b[0m\n\u001b[1;33m    driver = webdriver.Chrome(executable_path=/home/oslin/Documentos/webdrivers/chromedriver)\u001b[0m\n\u001b[1;37m                                              ^\u001b[0m\n\u001b[1;31mSyntaxError\u001b[0m\u001b[1;31m:\u001b[0m invalid syntax\n"
     ]
    }
   ],
   "source": [
    "from selenium import webdriver\n",
    "from selenium.webdriver.common.keys import Keys\n",
    "\n",
    "# Caminho para o seu driver, substitua pelo caminho correto\n",
    "driver_path = \"/home/oslin/Documentos/webdrivers/chromedriver\"\n",
    "\n",
    "# Inicializar o navegador\n",
    "driver = webdriver.Chrome(executable_path=/home/oslin/Documentos/webdrivers/chromedriver)\n",
    "\n",
    "# Abrir o Google\n",
    "driver.get(\"https://www.google.com\")\n",
    "\n",
    "# Encontrar o campo de pesquisa e digitar algo\n",
    "search_box = driver.find_element(\"name\", \"q\")\n",
    "search_box.send_keys(\"Automacao com Selenium\")\n",
    "\n",
    "# Pressionar Enter para realizar a pesquisa\n",
    "search_box.send_keys(Keys.RETURN)\n",
    "\n",
    "# Esperar um pouco para os resultados carregarem\n",
    "driver.implicitly_wait(5)\n",
    "\n",
    "# Imprimir o título da página e a URL\n",
    "print(\"Título da Página:\", driver.title)\n",
    "print(\"URL Atual:\", driver.current_url)\n",
    "\n",
    "# Fechar o navegador\n",
    "driver.quit()\n"
   ]
  },
  {
   "cell_type": "code",
   "execution_count": null,
   "id": "70a8f689",
   "metadata": {},
   "outputs": [],
   "source": []
  }
 ],
 "metadata": {
  "kernelspec": {
   "display_name": "Python 3.7.9 64-bit",
   "language": "python",
   "name": "python3"
  },
  "language_info": {
   "codemirror_mode": {
    "name": "ipython",
    "version": 3
   },
   "file_extension": ".py",
   "mimetype": "text/x-python",
   "name": "python",
   "nbconvert_exporter": "python",
   "pygments_lexer": "ipython3",
   "version": "3.7.9"
  },
  "vscode": {
   "interpreter": {
    "hash": "5109d816b82be14675a6b11f8e0f0d2e80f029176ed3710d54e125caa8520dfd"
   }
  }
 },
 "nbformat": 4,
 "nbformat_minor": 5
}
